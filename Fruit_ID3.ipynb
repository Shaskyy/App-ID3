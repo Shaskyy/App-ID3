{
 "cells": [
  {
   "cell_type": "markdown",
   "metadata": {},
   "source": [
    "# Read Dataset Fruit"
   ]
  },
  {
   "cell_type": "code",
   "execution_count": null,
   "metadata": {},
   "outputs": [],
   "source": [
    "import pandas as pd\n",
    "import numpy as np"
   ]
  },
  {
   "cell_type": "code",
   "execution_count": null,
   "metadata": {},
   "outputs": [],
   "source": [
    "df_fruit = pd.read_excel('fruit.xlsx')\n",
    "df_fruit"
   ]
  },
  {
   "cell_type": "code",
   "execution_count": null,
   "metadata": {},
   "outputs": [],
   "source": [
    "df_fruit.info()"
   ]
  },
  {
   "cell_type": "code",
   "execution_count": null,
   "metadata": {},
   "outputs": [],
   "source": [
    "df_fruit.describe()"
   ]
  },
  {
   "cell_type": "code",
   "execution_count": null,
   "metadata": {},
   "outputs": [],
   "source": [
    "# untuk mengecek banyaknya class/target/label\n",
    "pd.unique(df_fruit['name'])"
   ]
  },
  {
   "cell_type": "code",
   "execution_count": null,
   "metadata": {},
   "outputs": [],
   "source": [
    "# Untuk mengecek jumlah data orange & grapefruit\n",
    "df_fruit['name'].value_counts()"
   ]
  },
  {
   "cell_type": "markdown",
   "metadata": {},
   "source": [
    "# Split Dependent (Target/Label/Class) & Independent (Atribut/Fitur) Variable "
   ]
  },
  {
   "cell_type": "code",
   "execution_count": null,
   "metadata": {},
   "outputs": [],
   "source": [
    "atribut = df_fruit.iloc[:,:-1]  # Mengambil semua baris dan semua kolom kecuali kolom terakhir.\n",
    "label = df_fruit.iloc[:,-1:]    # Mengambil semua baris dan hanya kolom terakhir."
   ]
  },
  {
   "cell_type": "code",
   "execution_count": null,
   "metadata": {},
   "outputs": [],
   "source": [
    "atribut"
   ]
  },
  {
   "cell_type": "markdown",
   "metadata": {},
   "source": [
    "# Transformasi Dataset"
   ]
  },
  {
   "cell_type": "code",
   "execution_count": null,
   "metadata": {},
   "outputs": [],
   "source": [
    "# Mengubah data kategorikal menjadi numerik\n",
    "from sklearn.preprocessing import LabelEncoder\n",
    "\n",
    "le = LabelEncoder()\n",
    "df_fruit['diameter'] = le.fit_transform(df_fruit['diameter'].values)\n",
    "df_fruit['weight'] = le.fit_transform(df_fruit['weight'].values)\n",
    "df_fruit['red'] = le.fit_transform(df_fruit['red'].values)\n",
    "df_fruit['green'] = le.fit_transform(df_fruit['green'].values)\n",
    "df_fruit['blue'] = le.fit_transform(df_fruit['blue'].values)\n",
    "df_fruit['name'] = le.fit_transform(df_fruit['name'].values)"
   ]
  },
  {
   "cell_type": "code",
   "execution_count": null,
   "metadata": {},
   "outputs": [],
   "source": [
    "# Data yang sudah di ubah tersebut, di split lagi dengan variabel baru\n",
    "\n",
    "x = df_fruit.iloc[:,:-1]    # Mengambil semua baris dan semua kolom kecuali kolom terakhir.\n",
    "y = df_fruit.iloc[:,-1:]    # Mengambil semua baris dan hanya kolom terakhir.\n",
    "print(x)    # bisa diganti x atau y"
   ]
  },
  {
   "cell_type": "code",
   "execution_count": null,
   "metadata": {},
   "outputs": [],
   "source": [
    "# Lalu disimpan ke dalam file baru berupa csv\n",
    "df_fruit.to_csv('FruitTransform.csv', index=False)"
   ]
  },
  {
   "cell_type": "markdown",
   "metadata": {},
   "source": [
    "# Split Train Test"
   ]
  },
  {
   "cell_type": "code",
   "execution_count": null,
   "metadata": {},
   "outputs": [],
   "source": [
    "from sklearn.model_selection import train_test_split\n",
    "\n",
    "x_train, x_test, y_train, y_test = train_test_split(x, y, test_size=0.2, random_state=0)"
   ]
  },
  {
   "cell_type": "markdown",
   "metadata": {},
   "source": [
    "# Klasifikasi ID3 & Akurasi"
   ]
  },
  {
   "cell_type": "code",
   "execution_count": null,
   "metadata": {},
   "outputs": [],
   "source": [
    "from sklearn.tree import DecisionTreeClassifier\n",
    "from sklearn.metrics import accuracy_score\n",
    "from sklearn.metrics import classification_report\n",
    "from sklearn.metrics import confusion_matrix"
   ]
  },
  {
   "cell_type": "markdown",
   "metadata": {},
   "source": [
    "# Training / Fit Model"
   ]
  },
  {
   "cell_type": "code",
   "execution_count": null,
   "metadata": {},
   "outputs": [],
   "source": [
    "# Membuat model Decision Tree (Pohon Keputusan)\n",
    "DTC = DecisionTreeClassifier(\n",
    "    ccp_alpha=0.0, class_weight=None, criterion='entropy',\n",
    "    max_depth=4, max_features=None, max_leaf_nodes=None,\n",
    "    min_impurity_decrease=0.0, min_samples_leaf=1,\n",
    "    min_samples_split=2, min_weight_fraction_leaf=0.0,\n",
    "    random_state=42, splitter='best')\n",
    "Model_ID3 = DTC.fit(x_train, y_train)\n",
    "\n",
    "# CEK AKURASI\n",
    "DTC_Akurasi = accuracy_score(y_test, DTC.predict(x_test))\n",
    "print(f'Akurasi Data Training = {accuracy_score(y_train, DTC.predict(x_train))}')\n",
    "print(f'Akurasi Data Testing = {DTC_Akurasi} \\n')\n",
    "\n",
    "print(f'Confusion Matrix = \\n{confusion_matrix(y_test, DTC.predict(x_test))}\\n')\n",
    "Confusion = confusion_matrix(y_test, DTC.predict(x_test))\n",
    "print(f'classification_report = \\n{classification_report(y_test, DTC.predict(x_test))}')"
   ]
  },
  {
   "cell_type": "markdown",
   "metadata": {},
   "source": [
    "# Simulasi Model"
   ]
  },
  {
   "cell_type": "code",
   "execution_count": null,
   "metadata": {},
   "outputs": [],
   "source": [
    "input_data = (682,5381,39,41,31)\n",
    "\n",
    "input_data_as_numpy_array = np.array(input_data)    # Mengubah data input menjadi array NumPy agar bisa diproses oleh model.\n",
    "\n",
    "input_data_reshape = input_data_as_numpy_array.reshape(1,-1)    # Mengubah bentuk array agar sesuai dengan format input yang dibutuhkan model (1 baris dan banyak kolom).\n",
    "\n",
    "Prediksi = Model_ID3.predict(input_data_reshape)    # Menggunakan model ID3 untuk melakukan prediksi berdasarkan input yang diberikan.\n",
    "print(Prediksi)\n",
    "\n",
    "if (Prediksi[0] == 0):\n",
    "    print('grapefruit') # Jika prediksi 0, berarti buahnya adalah grapefruit.\n",
    "elif (Prediksi[0] == 1):\n",
    "    print('orange')\n",
    "else:\n",
    "    print('Name tidak diketahui')"
   ]
  },
  {
   "cell_type": "markdown",
   "metadata": {},
   "source": [
    "# Visualisasi Pohon Keputusan"
   ]
  },
  {
   "cell_type": "code",
   "execution_count": null,
   "metadata": {},
   "outputs": [],
   "source": [
    "import matplotlib.pyplot as plt         # Digunakan untuk membuat plot (grafik).\n",
    "from sklearn.tree import plot_tree      # Digunakan untuk menggambar pohon keputusan yang telah dilatih.\n",
    "\n",
    "fig, ax = plt.subplots(figsize=(25, 20))\n",
    "plot_tree(\n",
    "    Model_ID3, \n",
    "    feature_names=x.columns, \n",
    "    class_names=['grapefruit','orange'], \n",
    "    filled=True, fontsize=10, rounded=True, ax=ax)\n",
    "plt.show()"
   ]
  },
  {
   "cell_type": "markdown",
   "metadata": {},
   "source": [
    "# Aturan (Rules)"
   ]
  },
  {
   "cell_type": "code",
   "execution_count": null,
   "metadata": {},
   "outputs": [],
   "source": [
    "from sklearn.tree import export_text\n",
    "\n",
    "# Menampilkan aturan pohon keputusan dalam bentuk teks\n",
    "rules = export_text(Model_ID3, feature_names=list(x.columns))\n",
    "print(rules)    # Jika Anda ingin menampilkannya di terminal"
   ]
  },
  {
   "cell_type": "markdown",
   "metadata": {},
   "source": [
    "# Save Model"
   ]
  },
  {
   "cell_type": "code",
   "execution_count": null,
   "metadata": {},
   "outputs": [],
   "source": [
    "import pickle\n",
    "filename = 'ID3_Fruit.sav'\n",
    "pickle.dump(Model_ID3,open(filename,'wb'))"
   ]
  }
 ],
 "metadata": {
  "kernelspec": {
   "display_name": "Python 3",
   "language": "python",
   "name": "python3"
  },
  "language_info": {
   "codemirror_mode": {
    "name": "ipython",
    "version": 3
   },
   "file_extension": ".py",
   "mimetype": "text/x-python",
   "name": "python",
   "nbconvert_exporter": "python",
   "pygments_lexer": "ipython3",
   "version": "3.11.4"
  }
 },
 "nbformat": 4,
 "nbformat_minor": 2
}
